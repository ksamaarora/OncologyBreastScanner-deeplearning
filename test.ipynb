{
 "cells": [
  {
   "cell_type": "code",
   "execution_count": 3,
   "id": "a9c3fb0c-9f4f-4b83-a671-01b3c6b9757b",
   "metadata": {},
   "outputs": [],
   "source": [
    "import h5py\n",
    "import os"
   ]
  },
  {
   "cell_type": "code",
   "execution_count": 4,
   "id": "8f22f84c-594e-47e0-b06d-c81af8177e17",
   "metadata": {},
   "outputs": [
    {
     "name": "stdout",
     "output_type": "stream",
     "text": [
      "File exists but is not a valid HDF5 file: Unable to open file (file signature not found)\n"
     ]
    }
   ],
   "source": [
    "file_path = 'weights/modeldense1.h5'\n",
    "if os.path.exists(file_path):\n",
    "    try:\n",
    "        with h5py.File(file_path, 'r') as f:\n",
    "            print(\"File is a valid HDF5 file.\")\n",
    "    except Exception as e:\n",
    "        print(\"File exists but is not a valid HDF5 file:\", e)\n",
    "else:\n",
    "    print(\"File does not exist.\")\n"
   ]
  },
  {
   "cell_type": "code",
   "execution_count": null,
   "id": "46c8a98a-70fb-4e80-b7aa-0ff1293a3b9b",
   "metadata": {},
   "outputs": [],
   "source": []
  }
 ],
 "metadata": {
  "kernelspec": {
   "display_name": "Python 3 (ipykernel)",
   "language": "python",
   "name": "python3"
  },
  "language_info": {
   "codemirror_mode": {
    "name": "ipython",
    "version": 3
   },
   "file_extension": ".py",
   "mimetype": "text/x-python",
   "name": "python",
   "nbconvert_exporter": "python",
   "pygments_lexer": "ipython3",
   "version": "3.9.21"
  }
 },
 "nbformat": 4,
 "nbformat_minor": 5
}
